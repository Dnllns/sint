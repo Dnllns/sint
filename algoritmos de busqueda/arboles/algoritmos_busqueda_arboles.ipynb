{
 "cells": [
  {
   "attachments": {},
   "cell_type": "markdown",
   "metadata": {},
   "source": [
    "<img src=\"propiedades.png\">\n",
    "<img src=\"complex.png\">\n"
   ]
  },
  {
   "attachments": {},
   "cell_type": "markdown",
   "metadata": {},
   "source": [
    "# Definicion de un arbol de ejemplo"
   ]
  },
  {
   "cell_type": "code",
   "execution_count": 4,
   "metadata": {},
   "outputs": [],
   "source": [
    "class Nodo:\n",
    "    def __init__(self, label, childs=None):\n",
    "        self.label = label\n",
    "        self.childs = childs or []\n",
    "        self.path_cost = 0\n",
    "\n",
    "    def add_child(self, nodo, distance):\n",
    "        nodo.path_cost = distance\n",
    "        self.childs.append(nodo)\n",
    "\n",
    "    def get_childs(self):\n",
    "        return self.childs\n",
    "\n",
    "    def __repr__(self):\n",
    "        return self.label\n",
    "\n",
    "    def __str__(self):\n",
    "        return self.label\n",
    "\n",
    "    def __hash__(self) -> int:\n",
    "        return hash(self.label)\n",
    "\n",
    "    def __lt__(self, other):\n",
    "        return self.path_cost < other.path_cost\n",
    "\n",
    "    def __gt__(self, other):\n",
    "        return self.path_cost > other.path_cost\n",
    "\n",
    "    def __eq__(self, other):\n",
    "        return self.label == other.label"
   ]
  },
  {
   "attachments": {},
   "cell_type": "markdown",
   "metadata": {},
   "source": [
    "<img src=\"arbol_ejemplo.png\" width=\"20%\" height=\"20%\">\n"
   ]
  },
  {
   "cell_type": "code",
   "execution_count": 5,
   "metadata": {},
   "outputs": [],
   "source": [
    "# Raiz del arbol\n",
    "A = Nodo(\"A\")\n",
    "# Resto de nodos\n",
    "B = Nodo(\"B\")\n",
    "C = Nodo(\"C\")\n",
    "D = Nodo(\"D\")\n",
    "E = Nodo(\"E\")\n",
    "F = Nodo(\"F\")\n",
    "G = Nodo(\"G\")\n",
    "\n",
    "# Añadimos los hijos a los nodos\n",
    "A.add_child(B, 3)\n",
    "A.add_child(C, 1)\n",
    "B.add_child(D, 5)\n",
    "B.add_child(E, 4)\n",
    "C.add_child(F, 2)\n",
    "C.add_child(G, 1)\n",
    "E.add_child(F, 3)\n",
    "E.add_child(G, 2)\n",
    "\n"
   ]
  },
  {
   "cell_type": "code",
   "execution_count": 6,
   "metadata": {},
   "outputs": [
    {
     "name": "stdout",
     "output_type": "stream",
     "text": [
      "Hijos de A:  [B, C]\n",
      "Hijos de B:  [D, E]\n",
      "Hijos de C:  [F, G]\n",
      "Hijos de D:  []\n",
      "Hijos de E:  [F, G]\n",
      "Hijos de F:  []\n",
      "Hijos de G:  []\n"
     ]
    }
   ],
   "source": [
    "print(\"Hijos de A: \", A.childs)\n",
    "print(\"Hijos de B: \", B.childs)\n",
    "print(\"Hijos de C: \", C.childs)\n",
    "print(\"Hijos de D: \", D.childs)\n",
    "print(\"Hijos de E: \", E.childs)\n",
    "print(\"Hijos de F: \", F.childs)\n",
    "print(\"Hijos de G: \", G.childs)\n"
   ]
  },
  {
   "attachments": {},
   "cell_type": "markdown",
   "metadata": {},
   "source": [
    "# Objetivo de busqueda"
   ]
  },
  {
   "attachments": {},
   "cell_type": "markdown",
   "metadata": {},
   "source": [
    "Definimos el objetivo como llegar al nodo G"
   ]
  },
  {
   "cell_type": "code",
   "execution_count": 7,
   "metadata": {},
   "outputs": [],
   "source": [
    "# Definimos la función que comprueba si el nodo es el objetivo\n",
    "def goal(node):\n",
    "    if node.label == \"G\":\n",
    "        return True\n",
    "    else:\n",
    "        return False\n",
    "\n",
    "# Definimos la función que devuelve los hijos de un nodo\n",
    "def get_childs(node):\n",
    "    return node.childs\n"
   ]
  },
  {
   "cell_type": "code",
   "execution_count": 8,
   "metadata": {},
   "outputs": [
    {
     "data": {
      "text/plain": [
       "[B, C]"
      ]
     },
     "execution_count": 8,
     "metadata": {},
     "output_type": "execute_result"
    }
   ],
   "source": [
    "get_childs(A)"
   ]
  },
  {
   "attachments": {},
   "cell_type": "markdown",
   "metadata": {},
   "source": [
    "# Algoritmos de busqueda en Arbol"
   ]
  },
  {
   "attachments": {},
   "cell_type": "markdown",
   "metadata": {},
   "source": [
    "## Busqueda en profundidad"
   ]
  },
  {
   "attachments": {},
   "cell_type": "markdown",
   "metadata": {},
   "source": [
    "DFS significa \"Búsqueda en profundidad\" (Depth-First Search). Es un algoritmo de búsqueda que se utiliza para recorrer un grafo o un árbol. Funciona explorando todos los nodos de un camino desde el nodo raíz hasta el fondo antes de pasar al siguiente camino.\n",
    "\n",
    "La idea detrás de DFS es simular la forma en que un humano exploraría un espacio desconocido, explorando todas las rutas disponibles en un camino antes de volver atrás y tomar otro camino. DFS se utiliza a menudo en problemas de caminos más cortos, ciclos y componentes conectadas."
   ]
  },
  {
   "attachments": {},
   "cell_type": "markdown",
   "metadata": {},
   "source": [
    "### Propiedades"
   ]
  },
  {
   "attachments": {},
   "cell_type": "markdown",
   "metadata": {},
   "source": [
    "<img src=\"dfs.png\">"
   ]
  },
  {
   "attachments": {},
   "cell_type": "markdown",
   "metadata": {},
   "source": [
    "### Implementacion recursiva"
   ]
  },
  {
   "cell_type": "code",
   "execution_count": 9,
   "metadata": {
    "collapsed": true
   },
   "outputs": [],
   "source": [
    "def deep_first_search(nodes: list, goal_function, get_childs_function):\n",
    "\n",
    "    # Si no quedan nodos por explorar, devolvemos None\n",
    "    if nodes==[]:\n",
    "        return None\n",
    "\n",
    "    # Obtenemos el primer nodo de la lista\n",
    "    current=nodes[0]\n",
    "    print(\"Explorando nodo: \", current)\n",
    "\n",
    "    # Si el nodo es el objetivo, devolvemos el nodo\n",
    "    if goal_function(current):\n",
    "        return current\n",
    "\n",
    "    # Si no es el objetivo, devolvemos la llamada recursiva, \n",
    "    # pasando como nodos los hijos del nodo actual + los nodos restantes   \n",
    "    nodes = get_childs_function(current) + nodes[1:] \n",
    "    return deep_first_search(nodes, goal_function, get_childs_function)"
   ]
  },
  {
   "cell_type": "code",
   "execution_count": 10,
   "metadata": {},
   "outputs": [
    {
     "name": "stdout",
     "output_type": "stream",
     "text": [
      "Explorando nodo:  A\n",
      "Explorando nodo:  B\n",
      "Explorando nodo:  D\n",
      "Explorando nodo:  E\n",
      "Explorando nodo:  F\n",
      "Explorando nodo:  G\n"
     ]
    },
    {
     "data": {
      "text/plain": [
       "G"
      ]
     },
     "execution_count": 10,
     "metadata": {},
     "output_type": "execute_result"
    }
   ],
   "source": [
    "deep_first_search([A], goal, get_childs)"
   ]
  },
  {
   "attachments": {},
   "cell_type": "markdown",
   "metadata": {},
   "source": [
    "<img src=\"arbol_ejemplo.png\" width=\"20%\" height=\"20%\">"
   ]
  },
  {
   "attachments": {},
   "cell_type": "markdown",
   "metadata": {},
   "source": [
    "### Implementacion con cola"
   ]
  },
  {
   "cell_type": "code",
   "execution_count": 11,
   "metadata": {},
   "outputs": [],
   "source": [
    "def deep_first_search_queue(nodes: list, goal_function, get_childs):\n",
    "    # Creamos una cola para almacenar los nodos por explorar\n",
    "    queue = nodes.copy()\n",
    "    # Mientras queden nodos en la cola\n",
    "    while queue:\n",
    "        # Obtenemos el primer nodo de la cola\n",
    "        current = queue.pop(0)\n",
    "        print(\"Explorando nodo: \", current)\n",
    "\n",
    "        # Si el nodo es el objetivo, devolvemos el nodo\n",
    "        if goal_function(current):\n",
    "            return current\n",
    "        # Agregamos los hijos del nodo actual a la cola\n",
    "        queue = get_childs(current) + queue\n",
    "    # Si no quedan nodos por explorar, devolvemos None\n",
    "    return None"
   ]
  },
  {
   "cell_type": "code",
   "execution_count": 12,
   "metadata": {},
   "outputs": [
    {
     "name": "stdout",
     "output_type": "stream",
     "text": [
      "Explorando nodo:  A\n",
      "Explorando nodo:  B\n",
      "Explorando nodo:  D\n",
      "Explorando nodo:  E\n",
      "Explorando nodo:  F\n",
      "Explorando nodo:  G\n"
     ]
    },
    {
     "data": {
      "text/plain": [
       "G"
      ]
     },
     "execution_count": 12,
     "metadata": {},
     "output_type": "execute_result"
    }
   ],
   "source": [
    "deep_first_search_queue([A], goal, get_childs)"
   ]
  },
  {
   "attachments": {},
   "cell_type": "markdown",
   "metadata": {},
   "source": [
    "## Busqueda en anchura"
   ]
  },
  {
   "attachments": {},
   "cell_type": "markdown",
   "metadata": {},
   "source": [
    "### Propiedades"
   ]
  },
  {
   "attachments": {},
   "cell_type": "markdown",
   "metadata": {},
   "source": [
    "<img src=\"bfs.png\">"
   ]
  },
  {
   "attachments": {},
   "cell_type": "markdown",
   "metadata": {},
   "source": [
    "### Implementacion recursiva"
   ]
  },
  {
   "cell_type": "code",
   "execution_count": 13,
   "metadata": {},
   "outputs": [],
   "source": [
    "def breadth_first_search(nodes: list, goal_function, get_childs_function):\n",
    "\n",
    "    # Si no quedan nodos por explorar, devolvemos None\n",
    "    if nodes==[]:\n",
    "        return None\n",
    "\n",
    "    # Obtenemos el primer nodo de la lista\n",
    "    current=nodes[0]\n",
    "    print(\"Explorando nodo: \", current)\n",
    "\n",
    "    # Si el nodo es el objetivo, devolvemos el nodo\n",
    "    if goal_function(current):\n",
    "        return current\n",
    "\n",
    "    # Si no es el objetivo, devolvemos la llamada recursiva, \n",
    "    # pasando como nodos los hijos del nodo actual + los nodos restantes   \n",
    "    nodes = nodes[1:]  + get_childs_function(current)\n",
    "\n",
    "\n",
    "    return breadth_first_search(nodes, goal_function, get_childs_function)"
   ]
  },
  {
   "cell_type": "code",
   "execution_count": 14,
   "metadata": {},
   "outputs": [
    {
     "name": "stdout",
     "output_type": "stream",
     "text": [
      "Explorando nodo:  A\n",
      "Explorando nodo:  B\n",
      "Explorando nodo:  C\n",
      "Explorando nodo:  D\n",
      "Explorando nodo:  E\n",
      "Explorando nodo:  F\n",
      "Explorando nodo:  G\n"
     ]
    },
    {
     "data": {
      "text/plain": [
       "G"
      ]
     },
     "execution_count": 14,
     "metadata": {},
     "output_type": "execute_result"
    }
   ],
   "source": [
    "breadth_first_search([A], goal, get_childs)"
   ]
  },
  {
   "attachments": {},
   "cell_type": "markdown",
   "metadata": {},
   "source": [
    "<img src=\"arbol_ejemplo.png\" width=\"20%\" height=\"20%\">"
   ]
  },
  {
   "attachments": {},
   "cell_type": "markdown",
   "metadata": {},
   "source": [
    "### Implementacion con cola"
   ]
  },
  {
   "attachments": {},
   "cell_type": "markdown",
   "metadata": {},
   "source": [
    "Para implementar una búsqueda en anchura, en lugar de utilizar una llamada recursiva, se puede utilizar una cola para almacenar los nodos por explorar. El algoritmo funciona al tomar el primer nodo en la cola, verificar si es el objetivo, y agregar sus hijos al final de la cola. El siguiente nodo en la cola se convierte en el nodo actual y se repite el proceso hasta que se encuentra el objetivo o se agotan los nodos por explorar.\n",
    "\n",
    "En este ejemplo, se utiliza una cola para almacenar los nodos por explorar en lugar de una lista recursiva. Se toma el primer nodo de la cola y se verifica si es el objetivo (if goalp(current)). Si no es el objetivo, se agrega los hijos del nodo actual a la cola (queue += getnext(current)) y se repite el proceso hasta que se encuentra el objetivo o se agotan los nodos por explorar."
   ]
  },
  {
   "attachments": {
    "image.png": {
     "image/png": "[encoded data removed]"
    }
   },
   "cell_type": "markdown",
   "metadata": {},
   "source": [
    "Notese que ademas la unica diferencia entre los algoritmos de busqueda en profundidad y anchura basados en cola, es si añadomos los nodos al principio de la cola o al final\n",
    "\n",
    "![image.png](attachment:image.png)"
   ]
  },
  {
   "cell_type": "code",
   "execution_count": 15,
   "metadata": {},
   "outputs": [],
   "source": [
    "def breadth_first_search_queue(nodes: list, goal_function, get_childs):\n",
    "    # Creamos una cola para almacenar los nodos por explorar\n",
    "    queue = nodes.copy()\n",
    "    # Mientras queden nodos en la cola\n",
    "    while queue:\n",
    "        # Obtenemos el primer nodo de la cola\n",
    "        current = queue.pop(0)\n",
    "        print(\"Explorando nodo: \", current)\n",
    "\n",
    "        # Si el nodo es el objetivo, devolvemos el nodo\n",
    "        if goal_function(current):\n",
    "            return current\n",
    "        # Agregamos los hijos del nodo actual a la cola\n",
    "        queue += get_childs(current)\n",
    "    # Si no quedan nodos por explorar, devolvemos None\n",
    "    return None\n"
   ]
  },
  {
   "cell_type": "code",
   "execution_count": 16,
   "metadata": {},
   "outputs": [
    {
     "name": "stdout",
     "output_type": "stream",
     "text": [
      "Explorando nodo:  A\n",
      "Explorando nodo:  B\n",
      "Explorando nodo:  C\n",
      "Explorando nodo:  D\n",
      "Explorando nodo:  E\n",
      "Explorando nodo:  F\n",
      "Explorando nodo:  G\n"
     ]
    },
    {
     "data": {
      "text/plain": [
       "G"
      ]
     },
     "execution_count": 16,
     "metadata": {},
     "output_type": "execute_result"
    }
   ],
   "source": [
    "breadth_first_search_queue([A], goal, get_childs)"
   ]
  },
  {
   "attachments": {},
   "cell_type": "markdown",
   "metadata": {},
   "source": [
    "<img src=\"arbol_ejemplo.png\" width=\"20%\" height=\"20%\">"
   ]
  },
  {
   "attachments": {},
   "cell_type": "markdown",
   "metadata": {},
   "source": [
    "## Busqueda en profundidad limitada"
   ]
  },
  {
   "attachments": {},
   "cell_type": "markdown",
   "metadata": {},
   "source": [
    "DLS significa \"Búsqueda en profundidad limitada\" (Depth-Limited Search). Es una variante de la búsqueda en profundidad (DFS) en la que se establece un límite máximo para la profundidad de búsqueda. DLS detiene la búsqueda en cualquier punto si se alcanza el límite de profundidad establecido.\n",
    "\n",
    "La idea detrás de DLS es evitar que la búsqueda se convierta en un bucle infinito en caso de que exista un ciclo en el grafo o árbol. También se utiliza para evitar que la búsqueda consuma una cantidad excesiva de tiempo o memoria en caso de que el grafo o el árbol sean muy grandes.\n",
    "\n",
    "Es importante tener en cuenta que DLS no garantiza encontrar la solución óptima en un problema de búsqueda, ya que la solución podría estar más allá del límite de profundidad establecido. Sin embargo, puede ser útil en algunos casos para encontrar una solución aceptable en un tiempo razonable."
   ]
  },
  {
   "cell_type": "code",
   "execution_count": 17,
   "metadata": {
    "collapsed": true
   },
   "outputs": [],
   "source": [
    "def deep_limited_search(node, goal_function, get_childs_function, depth):\n",
    "\n",
    "\n",
    "    print(\"Explorando nodo: \", node)\n",
    "\n",
    "    # Si el nodo actual es el objetivo, se devuelve\n",
    "    if goal_function(node):\n",
    "        return node\n",
    "    # Si aún se puede seguir explorando a una mayor profundidad\n",
    "    if depth > 0:\n",
    "        # Itera a través de los hijos del nodo actual\n",
    "        for child in get_childs_function(node):\n",
    "            # Llamada recursiva a la función con el hijo actual y una profundidad menor\n",
    "            found = deep_limited_search(child, goal_function, get_childs_function, depth-1)\n",
    "            # Si se ha encontrado un nodo objetivo, se devuelve\n",
    "            if not found is None:\n",
    "                return found\n",
    "                \n",
    "    # Si no se ha encontrado un nodo objetivo o se ha alcanzado el límite de profundidad, se devuelve None\n",
    "    return None\n"
   ]
  },
  {
   "cell_type": "code",
   "execution_count": 18,
   "metadata": {},
   "outputs": [
    {
     "name": "stdout",
     "output_type": "stream",
     "text": [
      "Explorando nodo:  A\n",
      "Explorando nodo:  B\n",
      "Explorando nodo:  D\n",
      "Explorando nodo:  E\n",
      "Explorando nodo:  C\n",
      "Explorando nodo:  F\n",
      "Explorando nodo:  G\n"
     ]
    },
    {
     "data": {
      "text/plain": [
       "G"
      ]
     },
     "execution_count": 18,
     "metadata": {},
     "output_type": "execute_result"
    }
   ],
   "source": [
    "deep_limited_search(A, goal, get_childs, 2)"
   ]
  },
  {
   "attachments": {},
   "cell_type": "markdown",
   "metadata": {},
   "source": [
    "<img src=\"arbol_ejemplo.png\" width=\"20%\" height=\"20%\">"
   ]
  },
  {
   "cell_type": "code",
   "execution_count": 19,
   "metadata": {},
   "outputs": [
    {
     "name": "stdout",
     "output_type": "stream",
     "text": [
      "Explorando nodo:  A\n",
      "Explorando nodo:  B\n",
      "Explorando nodo:  D\n",
      "Explorando nodo:  E\n",
      "Explorando nodo:  F\n",
      "Explorando nodo:  G\n"
     ]
    },
    {
     "data": {
      "text/plain": [
       "G"
      ]
     },
     "execution_count": 19,
     "metadata": {},
     "output_type": "execute_result"
    }
   ],
   "source": [
    "deep_limited_search(A, goal, get_childs, 3)"
   ]
  },
  {
   "attachments": {},
   "cell_type": "markdown",
   "metadata": {},
   "source": [
    "## Busqueda en profundidad iterativa"
   ]
  },
  {
   "attachments": {},
   "cell_type": "markdown",
   "metadata": {},
   "source": [
    "La búsqueda en profundidad iterativa (IDDFS) es una técnica de búsqueda que combina la búsqueda en profundidad (DFS) con una límite de profundidad. En lugar de expandir todos los hijos de un nodo hasta llegar a una profundidad específica, IDDFS expande los hijos de un nodo hasta alcanzar un límite de profundidad y luego retrocede y aumenta el límite de profundidad antes de continuar expandiendo los hijos del siguiente nodo.\n",
    "\n",
    "En el código, se itera sobre las profundidades (depth = 0) y se llama a la función deep_limited_search con la profundidad actual (deep_limited_search(node, goalp, getnext, depth)). Si se ha encontrado un nodo objetivo, se devuelve (if result is not None: return result) y si no se ha encontrado un nodo objetivo, se incrementa la profundidad (depth += 1) y se vuelve a realizar la búsqueda en profundidad con una profundidad más grande.\n",
    "\n",
    "La IDDFS es una técnica completa y óptima, ya que garantiza encontrar la solución con menor costo si existe y al mismo tiempo no tiene problemas de espacio ya que solo guarda los nodos que estan en la frontera, el espacio es O(b^d), donde d es la profundidad máxima y b es el número máximo de nodos hijos de un nodo. Sin embargo, tiene un tiempo de complejidad O(b^d), lo cual puede ser muy alto para problemas con profundidades muy grandes."
   ]
  },
  {
   "cell_type": "code",
   "execution_count": 20,
   "metadata": {},
   "outputs": [],
   "source": [
    "def iterative_deepening_deep_first(node, goal_function, get_childs_function):\n",
    "\n",
    "    # Se itera sobre las profundidades\n",
    "    depth = 0\n",
    "\n",
    "    # Mientras no se encuentre un nodo objetivo\n",
    "    while True:\n",
    "        # Se llama a la función deep_limited_search con la profundidad actual\n",
    "        result = deep_limited_search(node, goal_function, get_childs_function, depth)\n",
    "\n",
    "        # Si se ha encontrado un nodo objetivo, se devuelve\n",
    "        if result is not None:\n",
    "            return result\n",
    "\n",
    "        # Si no se ha encontrado un nodo objetivo, se incrementa la profundidad    \n",
    "        depth += 1\n"
   ]
  },
  {
   "cell_type": "code",
   "execution_count": 21,
   "metadata": {
    "collapsed": true
   },
   "outputs": [
    {
     "name": "stdout",
     "output_type": "stream",
     "text": [
      "Explorando nodo:  A\n",
      "Explorando nodo:  A\n",
      "Explorando nodo:  B\n",
      "Explorando nodo:  C\n",
      "Explorando nodo:  A\n",
      "Explorando nodo:  B\n",
      "Explorando nodo:  D\n",
      "Explorando nodo:  E\n",
      "Explorando nodo:  C\n",
      "Explorando nodo:  F\n",
      "Explorando nodo:  G\n"
     ]
    },
    {
     "data": {
      "text/plain": [
       "G"
      ]
     },
     "execution_count": 21,
     "metadata": {},
     "output_type": "execute_result"
    }
   ],
   "source": [
    "\n",
    "iterative_deepening_deep_first(A, goal, get_childs)"
   ]
  },
  {
   "attachments": {},
   "cell_type": "markdown",
   "metadata": {},
   "source": [
    "<img src=\"arbol_ejemplo.png\" width=\"20%\" height=\"20%\">"
   ]
  },
  {
   "attachments": {},
   "cell_type": "markdown",
   "metadata": {},
   "source": [
    "## Busqueda de coste uniforme"
   ]
  },
  {
   "attachments": {},
   "cell_type": "markdown",
   "metadata": {},
   "source": [
    "La búsqueda con coste uniforme (UCS) es un algoritmo de búsqueda en grafos que se asemeja a la búsqueda en anchura, pero en lugar de expandir los nodos en orden de profundidad, los expande en orden de costo.\n",
    "\n",
    "UCS utiliza una cola de prioridad en lugar de una cola simple para almacenar los nodos por expandir. En cada iteración, el nodo con el costo más bajo se saca de la cola de prioridad y se expande. Si el nodo actual es el objetivo, se devuelve. Si no es el objetivo, se itera a través de los hijos del nodo actual y se calcula el costo total para cada uno (suma del costo del arco y el costo acumulado del nodo actual). Si el hijo no ha sido visitado o si su costo total es menor que el costo previamente registrado, se agrega el hijo a la cola de prioridad con su costo total y se registra su costo total en un diccionario de nodos visitados.\n",
    "\n",
    "La complejidad temporal de la búsqueda con coste uniforme es O(bC*/ε) (exponencial en la profundidad efectiva), donde b es el número máximo de nodos hijos de un nodo, C* es el costo de la solución óptima, y ε es el costo mínimo de los arcos. Sin embargo, debido a que la búsqueda con coste uniforme siempre selecciona el nodo con el costo más bajo, es completa y óptima. El espacio que utiliza es el del último nivel, es decir O(bC*/ε) ya que guarda los nodos de la frontera de exploración."
   ]
  },
  {
   "attachments": {},
   "cell_type": "markdown",
   "metadata": {},
   "source": [
    "<img src=\"ucs.png\" width=\"40%\" height=\"40%\">\n",
    "<img src=\"ucs_ex.png\" width=\"40%\" height=\"40%\">\n"
   ]
  },
  {
   "cell_type": "code",
   "execution_count": 22,
   "metadata": {},
   "outputs": [],
   "source": [
    "import heapq\n",
    "\n",
    "def uniform_cost_search(root, goal_function, get_childs_function):\n",
    "\n",
    "    # Creamos una cola de prioridad para almacenar los nodos por explorar\n",
    "    queue = []\n",
    "    heapq.heappush(queue, (0, root))\n",
    "\n",
    "    # Creamos un diccionario para almacenar los costos de los nodos ya visitados\n",
    "    visited = {}\n",
    "    visited[root] = 0\n",
    "    \n",
    "    # Mientras queden nodos en la cola de prioridad\n",
    "    while queue:\n",
    "\n",
    "        # Obtenemos el nodo con el costo más bajo\n",
    "        current = heapq.heappop(queue)[1]\n",
    "\n",
    "        print(\"Explorando nodo: \", current)\n",
    "\n",
    "        # Si el nodo es el objetivo, devolvemos el nodo\n",
    "        if goal_function(current):\n",
    "            return current\n",
    "        # Iteramos a través de los hijos del nodo actual\n",
    "        for child in get_childs_function(current):\n",
    "\n",
    "            # Calculamos el costo total para el hijo\n",
    "            cost =  child.path_cost + visited[current]\n",
    "            # Si el hijo no ha sido visitado o si su costo total es menor que el costo previamente registrado\n",
    "            if child not in visited or cost < visited[child]:\n",
    "                # Agregamos el hijo a la cola de prioridad con su costo total\n",
    "                heapq.heappush(queue, (cost, child))\n",
    "                # Registramos su costo total en el diccionario de nodos visitados\n",
    "                visited[child] = cost\n",
    "                \n",
    "    # Si no quedan nodos por explorar, devolvemos None\n",
    "    return None\n"
   ]
  },
  {
   "cell_type": "code",
   "execution_count": 23,
   "metadata": {},
   "outputs": [
    {
     "name": "stdout",
     "output_type": "stream",
     "text": [
      "Explorando nodo:  A\n",
      "Explorando nodo:  C\n",
      "Explorando nodo:  G\n"
     ]
    },
    {
     "data": {
      "text/plain": [
       "G"
      ]
     },
     "execution_count": 23,
     "metadata": {},
     "output_type": "execute_result"
    }
   ],
   "source": [
    "n = uniform_cost_search( A, goal, get_childs)\n",
    "n"
   ]
  },
  {
   "attachments": {},
   "cell_type": "markdown",
   "metadata": {},
   "source": [
    "<img src=\"arbol_ejemplo.png\" width=\"20%\" height=\"20%\">"
   ]
  }
 ],
 "metadata": {
  "kernelspec": {
   "display_name": "base",
   "language": "python",
   "name": "python3"
  },
  "language_info": {
   "codemirror_mode": {
    "name": "ipython",
    "version": 3
   },
   "file_extension": ".py",
   "mimetype": "text/x-python",
   "name": "python",
   "nbconvert_exporter": "python",
   "pygments_lexer": "ipython3",
   "version": "3.9.13"
  },
  "vscode": {
   "interpreter": {
    "hash": "40d3a090f54c6569ab1632332b64b2c03c39dcf918b08424e98f38b5ae0af88f"
   }
  }
 },
 "nbformat": 4,
 "nbformat_minor": 2
}
